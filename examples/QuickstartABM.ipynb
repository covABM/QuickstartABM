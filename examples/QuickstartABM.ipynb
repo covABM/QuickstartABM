{
 "cells": [
  {
   "cell_type": "code",
   "execution_count": 1,
   "metadata": {},
   "outputs": [],
   "source": [
    "# mesa imports\n",
    "from mesa_geo import GeoAgent, GeoSpace\n",
    "from mesa.time import BaseScheduler\n",
    "from mesa import datacollection\n",
    "from mesa import Model\n",
    "\n",
    "# shapely imports\n",
    "from shapely.geometry import Polygon, Point, LineString\n",
    "import shapely\n",
    "\n",
    "# data analysis imports\n",
    "import geopandas as gpd\n",
    "import pandas as pd\n",
    "import numpy as np\n",
    "\n",
    "# plotting imports\n",
    "import matplotlib as plt"
   ]
  },
  {
   "cell_type": "markdown",
   "metadata": {},
   "source": [
    "# Introduction to Agent Based Modeling\n",
    "Long things short, Agent Based Modeling is a type of model where a large amount of autonomous decision-making entities, called <b> agents </b>, follows certain pre-defined rules and interact with other agents to exhibit behaviors."
   ]
  },
  {
   "cell_type": "markdown",
   "metadata": {},
   "source": [
    "## Agents"
   ]
  },
  {
   "cell_type": "markdown",
   "metadata": {},
   "source": [
    "Lets start with a simple agent that says hi each step"
   ]
  },
  {
   "cell_type": "code",
   "execution_count": 2,
   "metadata": {},
   "outputs": [],
   "source": [
    "class NaiveAgent(GeoAgent):\n",
    "    '''\n",
    "    A simple geo-agent that only says \"hi!\" each step\n",
    "    unique_id: the unique_id of the agent\n",
    "    model: the model that the agent belongs to\n",
    "    shape: the spatial shape of the agent\n",
    "    '''\n",
    "    def __init__(self, unique_id, model, shape):\n",
    "        '''\n",
    "        initialize the Naive Agent with required parameters, we would not necessarily use any of it at this point\n",
    "        '''\n",
    "        super().__init__(unique_id, model, shape)\n",
    "        \n",
    "        \n",
    "        \n",
    "    def step(self):\n",
    "        print('hi!')"
   ]
  },
  {
   "cell_type": "markdown",
   "metadata": {},
   "source": [
    "Let's create an agent at location (0,0)"
   ]
  },
  {
   "cell_type": "code",
   "execution_count": 3,
   "metadata": {},
   "outputs": [],
   "source": [
    "unique_id = \"na0\"\n",
    "model = None # we will get back to this later, current we do not have a model\n",
    "shape = Point(0,0)\n",
    "a = NaiveAgent(unique_id, model, shape)"
   ]
  },
  {
   "cell_type": "markdown",
   "metadata": {},
   "source": [
    "We can call the `step` function deliberately "
   ]
  },
  {
   "cell_type": "code",
   "execution_count": 4,
   "metadata": {},
   "outputs": [
    {
     "name": "stdout",
     "output_type": "stream",
     "text": [
      "hi!\n"
     ]
    }
   ],
   "source": [
    "a.step()"
   ]
  },
  {
   "cell_type": "markdown",
   "metadata": {},
   "source": [
    "## Model\n",
    "The model can be think of as the spatial location where the agents are based on <br>\n",
    "Let's start with a simple `GeoSpace` model that intialize agents in random point within the x in [-10, 10), y in [-10, 10) square"
   ]
  },
  {
   "cell_type": "code",
   "execution_count": 5,
   "metadata": {},
   "outputs": [],
   "source": [
    "class NaiveModel(Model):\n",
    "    def __init__(self, agent_class, agent_N):\n",
    "        '''\n",
    "        initialize the model with a GeoSpace grid\n",
    "        agent_class: the type of agent you want to initialize in this model\n",
    "                     normally not an input parameter as models are mostly tied to specific agent types\n",
    "                     here we want to reuse thi model later\n",
    "        agent_N: number of agents to intialize the model with\n",
    "        '''\n",
    "        \n",
    "        \n",
    "        # mesa required attributes\n",
    "        self.running = True # determines if model should keep on running\n",
    "        # should be specified to false when given conditions are met\n",
    "        \n",
    "        self.grid = GeoSpace() # To learn more about other type of space grid, check mesa documentation\n",
    "        self.schedule = BaseScheduler(self) # scheduler dictates model level agent behavior, aka. step function\n",
    "        # Here we are using a BaseScheduler which computes step of the agents by order\n",
    "        # To learn more about other type of scheduler, check mesa documentation\n",
    "        \n",
    "        \n",
    "        # init agents\n",
    "        for i in range(agent_N):\n",
    "            pnt = Point(np.random.uniform(-10, 10), np.random.uniform(-10, 10))\n",
    "            a = agent_class(model=self, shape=pnt, unique_id=\"na\" + str(i))\n",
    "            self.grid.add_agents(a)\n",
    "            self.schedule.add(a)\n",
    "        \n",
    "        \n",
    "        \n",
    "    def step(self):\n",
    "        '''\n",
    "        step function of the model that would essentially call the step function of all agents\n",
    "        '''\n",
    "        self.schedule.step()\n",
    "        self.grid._recreate_rtree() # this is some history remaining issue with the mesa-geo package\n",
    "        # what this does is basically update the new spatial location of the agents to the scheduler deliberately"
   ]
  },
  {
   "cell_type": "markdown",
   "metadata": {},
   "source": [
    "Now we can create a model with 10 naive agents in it"
   ]
  },
  {
   "cell_type": "code",
   "execution_count": 6,
   "metadata": {},
   "outputs": [],
   "source": [
    "nmodel = NaiveModel(NaiveAgent, 10)"
   ]
  },
  {
   "cell_type": "markdown",
   "metadata": {},
   "source": [
    "To run the model a single step, call `step` function "
   ]
  },
  {
   "cell_type": "code",
   "execution_count": 7,
   "metadata": {},
   "outputs": [
    {
     "name": "stdout",
     "output_type": "stream",
     "text": [
      "hi!\n",
      "hi!\n",
      "hi!\n",
      "hi!\n",
      "hi!\n",
      "hi!\n",
      "hi!\n",
      "hi!\n",
      "hi!\n",
      "hi!\n"
     ]
    }
   ],
   "source": [
    "nmodel.step()"
   ]
  },
  {
   "cell_type": "markdown",
   "metadata": {},
   "source": [
    "You can also access all the agents of the model via model scheduler"
   ]
  },
  {
   "cell_type": "code",
   "execution_count": 8,
   "metadata": {},
   "outputs": [],
   "source": [
    "agents = nmodel.schedule.agents"
   ]
  },
  {
   "cell_type": "code",
   "execution_count": 9,
   "metadata": {},
   "outputs": [
    {
     "data": {
      "text/plain": [
       "[<__main__.NaiveAgent at 0x28130dab208>,\n",
       " <__main__.NaiveAgent at 0x28130dacd48>,\n",
       " <__main__.NaiveAgent at 0x28130dace08>,\n",
       " <__main__.NaiveAgent at 0x28130d6ce08>,\n",
       " <__main__.NaiveAgent at 0x28130db4248>,\n",
       " <__main__.NaiveAgent at 0x28130db4288>,\n",
       " <__main__.NaiveAgent at 0x28130db4bc8>,\n",
       " <__main__.NaiveAgent at 0x28130db44c8>,\n",
       " <__main__.NaiveAgent at 0x28130db4b88>,\n",
       " <__main__.NaiveAgent at 0x28130db4488>]"
      ]
     },
     "execution_count": 9,
     "metadata": {},
     "output_type": "execute_result"
    }
   ],
   "source": [
    "agents"
   ]
  },
  {
   "cell_type": "markdown",
   "metadata": {},
   "source": [
    "You can access the shape (location) of the agents with their attribute `shape`, and as a result visualize it if necessary "
   ]
  },
  {
   "cell_type": "code",
   "execution_count": 10,
   "metadata": {},
   "outputs": [],
   "source": [
    "shapes = gpd.GeoSeries(map(lambda a: a.shape, agents))"
   ]
  },
  {
   "cell_type": "code",
   "execution_count": 11,
   "metadata": {},
   "outputs": [
    {
     "data": {
      "text/plain": [
       "<AxesSubplot:>"
      ]
     },
     "execution_count": 11,
     "metadata": {},
     "output_type": "execute_result"
    },
    {
     "data": {
      "image/png": "[encoded data removed]",
      "text/plain": [
       "<Figure size 432x288 with 1 Axes>"
      ]
     },
     "metadata": {
      "needs_background": "light"
     },
     "output_type": "display_data"
    }
   ],
   "source": [
    "shapes.plot()"
   ]
  },
  {
   "cell_type": "markdown",
   "metadata": {},
   "source": [
    "## Not So Naive Behavior"
   ]
  },
  {
   "cell_type": "markdown",
   "metadata": {},
   "source": [
    "What if we want more complicated behaviors? <br>\n",
    "Let's say you want agents to move by a random <b> (x, y) </b> each step, in the range of [-5,5), and perhaps <b> say \"hi!\" </b> to all other agents <b> within the distance of 2 </b>"
   ]
  },
  {
   "cell_type": "markdown",
   "metadata": {},
   "source": [
    "`get_neighbors_within_distance` is a nice and efficient method you can use to check surrounding neighbors"
   ]
  },
  {
   "cell_type": "code",
   "execution_count": 46,
   "metadata": {},
   "outputs": [],
   "source": [
    "class MobileAgent(NaiveAgent):\n",
    "    '''\n",
    "    A simple geo-agent that each step moves in the range of [-5,5) and greets all agents within 2 units\n",
    "    unique_id: the unique_id of the agent\n",
    "    model: the model that the agent belongs to\n",
    "    shape: the spatial shape of the agent\n",
    "    '''\n",
    "    def __init__(self, unique_id, model, shape):\n",
    "        super().__init__(unique_id, model, shape)\n",
    "        self.greeted = False # some attribute to indicate if one agent has ever greeted another agent in its life-span\n",
    "        \n",
    "        # coordinate attributes\n",
    "        # eventhough it is not ncessary to establish as attributes\n",
    "        # setting as attribute would enhance data collection efficiency\n",
    "        # check mesa documentation for more details in the DataCollector page\n",
    "        self.x = self.shape.x\n",
    "        self.y = self.shape.y\n",
    "        \n",
    "        \n",
    "    def step(self):\n",
    "        '''\n",
    "        update the current location within the random range and greet to all surrounding neighbors with specified greet_dist\n",
    "        \n",
    "        '''\n",
    "        self.x, self.y = self.x+np.random.uniform(-5,5), self.y+np.random.uniform(-5,5) # update the location\n",
    "        self.shape = Point(self.x, self.y) # update shape\n",
    "        self.__greet(2) # call greet function\n",
    "    \n",
    "    \n",
    "    def __greet(self, greet_dist):\n",
    "        '''\n",
    "        say hi to all surrounding neighbors with specified greet_dist\n",
    "        greet_dist: maiximum distance to greet to neighbors\n",
    "        '''\n",
    "        \n",
    "        \n",
    "        neighbors = self.model.grid.get_neighbors_within_distance(self, greet_dist)\n",
    "        for neighbor in neighbors:\n",
    "            if neighbor.unique_id != self.unique_id:\n",
    "                print('Hi! Fellow agent ' + str(neighbor.unique_id) + \". I am \" + str(self.unique_id))\n",
    "                self.greeted = True # update the greeted indicator to True"
   ]
  },
  {
   "cell_type": "markdown",
   "metadata": {},
   "source": [
    "With our previous naive model, we can run our new agent with the following:"
   ]
  },
  {
   "cell_type": "code",
   "execution_count": 47,
   "metadata": {},
   "outputs": [],
   "source": [
    "mobile_model = NaiveModel(MobileAgent, 10)"
   ]
  },
  {
   "cell_type": "markdown",
   "metadata": {},
   "source": [
    "Let's run 10 steps!"
   ]
  },
  {
   "cell_type": "code",
   "execution_count": 48,
   "metadata": {},
   "outputs": [
    {
     "name": "stdout",
     "output_type": "stream",
     "text": [
      "Hi! Fellow agent na9. I am na8\n",
      "Hi! Fellow agent na6. I am na5\n",
      "Hi! Fellow agent na2. I am na1\n",
      "Hi! Fellow agent na4. I am na3\n",
      "Hi! Fellow agent na9. I am na6\n",
      "Hi! Fellow agent na2. I am na1\n",
      "Hi! Fellow agent na6. I am na2\n",
      "Hi! Fellow agent na9. I am na8\n",
      "Hi! Fellow agent na3. I am na2\n",
      "Hi! Fellow agent na8. I am na6\n"
     ]
    }
   ],
   "source": [
    "for _ in range(10):    \n",
    "    mobile_model.step()"
   ]
  },
  {
   "cell_type": "markdown",
   "metadata": {},
   "source": [
    "Remember `BaseScheduler` runs in order of the agents. So, agent `step` is not being called simultaneously, which explains why it is possible that there are no \"greet backs\" in the naive model run"
   ]
  },
  {
   "cell_type": "markdown",
   "metadata": {},
   "source": [
    "Again, we can get access to agent locations with the scheduler"
   ]
  },
  {
   "cell_type": "code",
   "execution_count": 49,
   "metadata": {},
   "outputs": [],
   "source": [
    "agents = mobile_model.schedule.agents"
   ]
  },
  {
   "cell_type": "markdown",
   "metadata": {},
   "source": [
    "We can check the final location of the agents as well as who has greeted others "
   ]
  },
  {
   "cell_type": "code",
   "execution_count": 50,
   "metadata": {},
   "outputs": [],
   "source": [
    "greeted = gpd.GeoSeries(map(lambda a: a.shape, [agent for agent in agents if agent.greeted]))\n",
    "not_greeted = gpd.GeoSeries(map(lambda a: a.shape, [agent for agent in agents if not agent.greeted]))"
   ]
  },
  {
   "cell_type": "code",
   "execution_count": 51,
   "metadata": {
    "scrolled": true
   },
   "outputs": [
    {
     "data": {
      "text/plain": [
       "<AxesSubplot:>"
      ]
     },
     "execution_count": 51,
     "metadata": {},
     "output_type": "execute_result"
    },
    {
     "data": {
      "image/png": "[encoded data removed]",
      "text/plain": [
       "<Figure size 432x288 with 1 Axes>"
      ]
     },
     "metadata": {
      "needs_background": "light"
     },
     "output_type": "display_data"
    }
   ],
   "source": [
    "basemap = greeted.plot(c=\"red\")\n",
    "not_greeted.plot(c=\"blue\", ax = basemap)"
   ]
  },
  {
   "cell_type": "markdown",
   "metadata": {},
   "source": [
    "## Data Collection"
   ]
  },
  {
   "cell_type": "markdown",
   "metadata": {},
   "source": [
    "What if you want to access the location as well as greeting status of each agents in each model step?"
   ]
  },
  {
   "cell_type": "markdown",
   "metadata": {},
   "source": [
    "We have been accessing the agents via `model.schedule.agents` for all of our previous examples. However as you already noticed, that's really inefficient if you want to do so each step."
   ]
  },
  {
   "cell_type": "markdown",
   "metadata": {},
   "source": [
    "MESA provide a data collecting module called `DataCollector` that can collect the model data as well as the agent data at step level"
   ]
  },
  {
   "cell_type": "code",
   "execution_count": 52,
   "metadata": {},
   "outputs": [],
   "source": [
    "class CollectableModel(NaiveModel):\n",
    "    def __init__(self, agent_class, agent_N):\n",
    "        '''\n",
    "        initialize the model with a GeoSpace grid\n",
    "        agent_class: the type of agent you want to initialize in this model\n",
    "                     normally not an input parameter as models are mostly tied to specific agent types\n",
    "                     here we want to reuse thi model later\n",
    "        agent_N: number of agents to intialize the model with\n",
    "        '''\n",
    "        super().__init__(agent_class, agent_N)\n",
    "        \n",
    "        \n",
    "        #data collect init\n",
    "        # the model reporter specifies the data that should be collected from the model in each collect call\n",
    "        # since we have no model data to be collected in this example, it is not specified\n",
    "        # the format is the same as the agent_reporters\n",
    "        \n",
    "        # the agent reporter specifies the data that should be collected from the agents in each collect call\n",
    "        agent_reporters = {\"x\": \"x\",\n",
    "                           \"y\": \"y\",\n",
    "                           \"greet status\": \"greeted\"}\n",
    "        \n",
    "        \n",
    "        # both dictionaries can take in lambda function as well\n",
    "        # however, for efficiency purposes, getting attribute is recommanded\n",
    "        # check mesa documentation for more details in the DataCollector page\n",
    "        \n",
    "        \n",
    "        self.datacollector = datacollection.DataCollector(agent_reporters=agent_reporters)#, model_reporters=model_reporters)\n",
    "        \n",
    "        \n",
    "    def step(self):\n",
    "        '''\n",
    "        step function of the model that would essentially call the step function of all agents\n",
    "        '''\n",
    "        self.schedule.step()\n",
    "        self.grid._recreate_rtree()\n",
    "        self.datacollector.collect(self)"
   ]
  },
  {
   "cell_type": "code",
   "execution_count": 53,
   "metadata": {},
   "outputs": [],
   "source": [
    "cmodel = CollectableModel(MobileAgent, 10)"
   ]
  },
  {
   "cell_type": "markdown",
   "metadata": {},
   "source": [
    "Let's run 10 steps!"
   ]
  },
  {
   "cell_type": "code",
   "execution_count": 54,
   "metadata": {},
   "outputs": [
    {
     "name": "stdout",
     "output_type": "stream",
     "text": [
      "Hi! Fellow agent na0. I am na8\n",
      "Hi! Fellow agent na4. I am na2\n",
      "Hi! Fellow agent na8. I am na5\n",
      "Hi! Fellow agent na6. I am na1\n",
      "Hi! Fellow agent na5. I am na2\n",
      "Hi! Fellow agent na2. I am na0\n",
      "Hi! Fellow agent na5. I am na3\n",
      "Hi! Fellow agent na3. I am na5\n",
      "Hi! Fellow agent na8. I am na5\n"
     ]
    }
   ],
   "source": [
    "for _ in range(10):    \n",
    "    cmodel.step()"
   ]
  },
  {
   "cell_type": "markdown",
   "metadata": {},
   "source": [
    "We can get the data from the `DataCollector` with method `get_agent_vars_dataframe`"
   ]
  },
  {
   "cell_type": "code",
   "execution_count": 55,
   "metadata": {},
   "outputs": [],
   "source": [
    "agent_data = cmodel.datacollector.get_agent_vars_dataframe()"
   ]
  },
  {
   "cell_type": "code",
   "execution_count": 56,
   "metadata": {},
   "outputs": [
    {
     "data": {
      "text/html": [
       "<div>\n",
       "<style scoped>\n",
       "    .dataframe tbody tr th:only-of-type {\n",
       "        vertical-align: middle;\n",
       "    }\n",
       "\n",
       "    .dataframe tbody tr th {\n",
       "        vertical-align: top;\n",
       "    }\n",
       "\n",
       "    .dataframe thead th {\n",
       "        text-align: right;\n",
       "    }\n",
       "</style>\n",
       "<table border=\"1\" class=\"dataframe\">\n",
       "  <thead>\n",
       "    <tr style=\"text-align: right;\">\n",
       "      <th></th>\n",
       "      <th></th>\n",
       "      <th>x</th>\n",
       "      <th>y</th>\n",
       "      <th>greet status</th>\n",
       "    </tr>\n",
       "    <tr>\n",
       "      <th>Step</th>\n",
       "      <th>AgentID</th>\n",
       "      <th></th>\n",
       "      <th></th>\n",
       "      <th></th>\n",
       "    </tr>\n",
       "  </thead>\n",
       "  <tbody>\n",
       "    <tr>\n",
       "      <th rowspan=\"5\" valign=\"top\">1</th>\n",
       "      <th>na0</th>\n",
       "      <td>1.554402</td>\n",
       "      <td>-8.629347</td>\n",
       "      <td>False</td>\n",
       "    </tr>\n",
       "    <tr>\n",
       "      <th>na1</th>\n",
       "      <td>-4.259763</td>\n",
       "      <td>9.095215</td>\n",
       "      <td>False</td>\n",
       "    </tr>\n",
       "    <tr>\n",
       "      <th>na2</th>\n",
       "      <td>12.020300</td>\n",
       "      <td>-2.537800</td>\n",
       "      <td>False</td>\n",
       "    </tr>\n",
       "    <tr>\n",
       "      <th>na3</th>\n",
       "      <td>-2.358469</td>\n",
       "      <td>-1.737021</td>\n",
       "      <td>False</td>\n",
       "    </tr>\n",
       "    <tr>\n",
       "      <th>na4</th>\n",
       "      <td>6.425213</td>\n",
       "      <td>-0.173311</td>\n",
       "      <td>False</td>\n",
       "    </tr>\n",
       "    <tr>\n",
       "      <th>...</th>\n",
       "      <th>...</th>\n",
       "      <td>...</td>\n",
       "      <td>...</td>\n",
       "      <td>...</td>\n",
       "    </tr>\n",
       "    <tr>\n",
       "      <th rowspan=\"5\" valign=\"top\">10</th>\n",
       "      <th>na5</th>\n",
       "      <td>6.080076</td>\n",
       "      <td>-5.490210</td>\n",
       "      <td>True</td>\n",
       "    </tr>\n",
       "    <tr>\n",
       "      <th>na6</th>\n",
       "      <td>4.630000</td>\n",
       "      <td>6.378335</td>\n",
       "      <td>False</td>\n",
       "    </tr>\n",
       "    <tr>\n",
       "      <th>na7</th>\n",
       "      <td>8.531642</td>\n",
       "      <td>0.657554</td>\n",
       "      <td>False</td>\n",
       "    </tr>\n",
       "    <tr>\n",
       "      <th>na8</th>\n",
       "      <td>4.342753</td>\n",
       "      <td>-7.961562</td>\n",
       "      <td>True</td>\n",
       "    </tr>\n",
       "    <tr>\n",
       "      <th>na9</th>\n",
       "      <td>-20.588611</td>\n",
       "      <td>1.773098</td>\n",
       "      <td>False</td>\n",
       "    </tr>\n",
       "  </tbody>\n",
       "</table>\n",
       "<p>100 rows × 3 columns</p>\n",
       "</div>"
      ],
      "text/plain": [
       "                      x         y  greet status\n",
       "Step AgentID                                   \n",
       "1    na0       1.554402 -8.629347         False\n",
       "     na1      -4.259763  9.095215         False\n",
       "     na2      12.020300 -2.537800         False\n",
       "     na3      -2.358469 -1.737021         False\n",
       "     na4       6.425213 -0.173311         False\n",
       "...                 ...       ...           ...\n",
       "10   na5       6.080076 -5.490210          True\n",
       "     na6       4.630000  6.378335         False\n",
       "     na7       8.531642  0.657554         False\n",
       "     na8       4.342753 -7.961562          True\n",
       "     na9     -20.588611  1.773098         False\n",
       "\n",
       "[100 rows x 3 columns]"
      ]
     },
     "execution_count": 56,
     "metadata": {},
     "output_type": "execute_result"
    }
   ],
   "source": [
    "agent_data"
   ]
  },
  {
   "cell_type": "markdown",
   "metadata": {},
   "source": [
    "## Thank you for reading!"
   ]
  },
  {
   "cell_type": "markdown",
   "metadata": {},
   "source": [
    "This is the end of this quickstart tutorial! <br>\n",
    "Even though this quickstart only covers very naive functionality of MESA. I know from my experience that learning a new package from 0 is really hard. So I tried to make this notebook as readable as possible. Still, feel free to message me any question you have! <br>\n",
    "<br>\n",
    "-- Johnny\n"
   ]
  },
  {
   "cell_type": "code",
   "execution_count": null,
   "metadata": {},
   "outputs": [],
   "source": []
  }
 ],
 "metadata": {
  "kernelspec": {
   "display_name": "Python 3",
   "language": "python",
   "name": "python3"
  },
  "language_info": {
   "codemirror_mode": {
    "name": "ipython",
    "version": 3
   },
   "file_extension": ".py",
   "mimetype": "text/x-python",
   "name": "python",
   "nbconvert_exporter": "python",
   "pygments_lexer": "ipython3",
   "version": "3.7.9"
  }
 },
 "nbformat": 4,
 "nbformat_minor": 4
}
