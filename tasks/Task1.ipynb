{
 "cells": [
  {
   "cell_type": "markdown",
   "metadata": {},
   "source": [
    "# Task -1 (Implementing an Simple ABM Simulation in Geo-MESA)\n",
    "\n",
    "In this exercise you will go over the entire process to implement, and analyze behaviors from a simple system. "
   ]
  },
  {
   "cell_type": "code",
   "execution_count": null,
   "metadata": {},
   "outputs": [],
   "source": [
    "# <Add Relavent Import Statements here>"
   ]
  },
  {
   "cell_type": "markdown",
   "metadata": {},
   "source": [
    "## Step -1 Create a 100 unit X 100 unit polygon (using Shapely) \n",
    "\n",
    "_If you are unfamilair or want a refersher on using shapely or how to use and construct geometries take a look at the documentation [here!](https://shapely.readthedocs.io/en/stable/manual.html#geometric-objects)_"
   ]
  },
  {
   "cell_type": "code",
   "execution_count": null,
   "metadata": {},
   "outputs": [],
   "source": []
  },
  {
   "cell_type": "markdown",
   "metadata": {},
   "source": [
    "# Step -2 System Description\n",
    "\n",
    "Create a framework using geo-mesa to accomodate the following system description using the example [notebook](https://github.com/covABM/QuickstartABM/blob/main/examples/QuickstartABM.ipynb) as reference.\n",
    "\n",
    "---\n",
    "\n",
    "**Agent Types**:\n",
    "\n",
    "We will be primarily dealing with two kinds of agents namely:\n",
    "\n",
    "1. _Friends_ : In this system we will have 25 friend agents.\n",
    "2. _Enemies_ : In this system we will have 5 enemies.\n",
    "\n",
    "**System Description**\n",
    "\n",
    "* In this simulation consider each iteration of the simulation to be 2 minutes, and the total runtime of the simulation to be 100 minutes. \n",
    "* Friends and enemies move into random positions within the 100 X 100 polygon created earlier during each step of the simulation. \n",
    "* Friends start off with a health of 100 points, whereas enemies start with a contact_count of 0. \n",
    "* If a Friend spends more at least 2 minutes with an enemy at a distance of 9 feet or less, their health will reduce by 30 points and the corresponding enemy's contact_count gets incremented by 1.\n",
    "* If a Friend's health reduces to less than 0, they are removed from the system.\n",
    "* Implement schemes to keep track of the number of friends and enemies at each point (iteration) in the simulation."
   ]
  },
  {
   "cell_type": "code",
   "execution_count": null,
   "metadata": {},
   "outputs": [],
   "source": []
  },
  {
   "cell_type": "markdown",
   "metadata": {},
   "source": [
    "# Step -3 Simulation Graphs\n",
    "\n",
    "Produce graphs to show the total number of friends and enemies at each point of the simulation"
   ]
  },
  {
   "cell_type": "code",
   "execution_count": null,
   "metadata": {},
   "outputs": [],
   "source": []
  },
  {
   "cell_type": "markdown",
   "metadata": {},
   "source": [
    "# BONUS \n",
    "\n",
    "Can you produce a video or GIF showing the movement of friends and enemies during this simulation following the afformentioned system rules?"
   ]
  },
  {
   "cell_type": "code",
   "execution_count": null,
   "metadata": {},
   "outputs": [],
   "source": []
  }
 ],
 "metadata": {
  "kernelspec": {
   "display_name": "Python 3",
   "language": "python",
   "name": "python3"
  },
  "language_info": {
   "codemirror_mode": {
    "name": "ipython",
    "version": 3
   },
   "file_extension": ".py",
   "mimetype": "text/x-python",
   "name": "python",
   "nbconvert_exporter": "python",
   "pygments_lexer": "ipython3",
   "version": "3.7.3"
  },
  "toc": {
   "base_numbering": 1,
   "nav_menu": {},
   "number_sections": false,
   "sideBar": false,
   "skip_h1_title": false,
   "title_cell": "Table of Contents",
   "title_sidebar": "Contents",
   "toc_cell": false,
   "toc_position": {},
   "toc_section_display": false,
   "toc_window_display": false
  }
 },
 "nbformat": 4,
 "nbformat_minor": 4
}
