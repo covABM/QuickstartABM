{
 "cells": [
  {
   "cell_type": "code",
   "execution_count": 1,
   "metadata": {},
   "outputs": [],
   "source": [
    "# mesa imports\n",
    "from mesa_geo import GeoAgent, GeoSpace\n",
    "from mesa.time import BaseScheduler\n",
    "from mesa import datacollection\n",
    "from mesa import Model\n",
    "\n",
    "# shapely imports\n",
    "from shapely.geometry import Polygon, Point, LineString\n",
    "import shapely\n",
    "\n",
    "# data analysis imports\n",
    "import geopandas as gpd\n",
    "import pandas as pd\n",
    "import numpy as np\n",
    "\n",
    "# plotting imports\n",
    "import matplotlib as plt"
   ]
  },
  {
   "cell_type": "markdown",
   "metadata": {},
   "source": [
    "# Introduction to Agent Based Modeling\n",
    "Long things short, Agent Based Modeling is a type of model where a large amount of autonomous decision-making entities, called <b> agents </b>, follows certain pre-defined rules and interact with other agents to exhibit behaviors."
   ]
  },
  {
   "cell_type": "markdown",
   "metadata": {},
   "source": [
    "## Agents"
   ]
  },
  {
   "cell_type": "markdown",
   "metadata": {},
   "source": [
    "Lets start with a simple agent that says hi each step"
   ]
  },
  {
   "cell_type": "code",
   "execution_count": 2,
   "metadata": {},
   "outputs": [],
   "source": [
    "class NaiveAgent(GeoAgent):\n",
    "    '''\n",
    "    A simple geo-agent that only says \"hi!\" each step\n",
    "    unique_id: the unique_id of the agent\n",
    "    model: the model that the agent belongs to\n",
    "    shape: the spatial shape of the agent\n",
    "    '''\n",
    "    def __init__(self, unique_id, model, shape):\n",
    "        '''\n",
    "        initialize the Naive Agent with required parameters, we would not necessarily use any of it at this point\n",
    "        '''\n",
    "        super().__init__(unique_id, model, shape)\n",
    "        \n",
    "        \n",
    "        \n",
    "    def step(self):\n",
    "        print('hi!')"
   ]
  },
  {
   "cell_type": "markdown",
   "metadata": {},
   "source": [
    "Let's create an agent at location (0,0)"
   ]
  },
  {
   "cell_type": "code",
   "execution_count": 3,
   "metadata": {},
   "outputs": [],
   "source": [
    "unique_id = \"na0\"\n",
    "model = None # we will get back to this later, current we do not have a model\n",
    "shape = Point(0,0)\n",
    "a = NaiveAgent(unique_id, model, shape)"
   ]
  },
  {
   "cell_type": "markdown",
   "metadata": {},
   "source": [
    "We can call the `step` function deliberately "
   ]
  },
  {
   "cell_type": "code",
   "execution_count": 4,
   "metadata": {},
   "outputs": [
    {
     "name": "stdout",
     "output_type": "stream",
     "text": [
      "hi!\n"
     ]
    }
   ],
   "source": [
    "a.step()"
   ]
  },
  {
   "cell_type": "markdown",
   "metadata": {},
   "source": [
    "## Model\n",
    "The model can be think of as the spatial location where the agents are based on <br>\n",
    "Let's start with a simple `GeoSpace` model that intialize agents in random point within the x in [-10, 10), y in [-10, 10) square"
   ]
  },
  {
   "cell_type": "code",
   "execution_count": 7,
   "metadata": {},
   "outputs": [],
   "source": [
    "class NaiveModel(Model):\n",
    "    def __init__(self, agent_N):\n",
    "        '''\n",
    "        initialize the model with a GeoSpace grid\n",
    "        agent_N: number of agents to intialize the model with\n",
    "        '''\n",
    "        \n",
    "        \n",
    "        # mesa required attributes\n",
    "        self.running = True # determines if model should keep on running\n",
    "        # should be specified to false when given conditions are met\n",
    "        \n",
    "        self.grid = GeoSpace() # To learn more about other type of space grid, check mesa documentation\n",
    "        self.schedule = BaseScheduler(self) # scheduler dictates model level agent behavior, aka. step function\n",
    "        # Here we are using a BaseScheduler which computes step of the agents by order\n",
    "        # To learn more about other type of scheduler, check mesa documentation\n",
    "        \n",
    "        \n",
    "        # init agents\n",
    "        for i in range(agent_N):\n",
    "            pnt = Point(np.random.uniform(-10, 10), np.random.uniform(-10, 10))\n",
    "            a = NaiveAgent(model=self, shape=pnt, unique_id=\"na\" + str(i))\n",
    "            self.grid.add_agents(a)\n",
    "            self.schedule.add(a)\n",
    "        \n",
    "        \n",
    "        \n",
    "    def step(self):\n",
    "        '''\n",
    "        step function of the model that would essentially call the step function of all agents\n",
    "        '''\n",
    "        self.schedule.step()"
   ]
  },
  {
   "cell_type": "markdown",
   "metadata": {},
   "source": [
    "Now we can create a model with 10 naive agents in it"
   ]
  },
  {
   "cell_type": "code",
   "execution_count": 8,
   "metadata": {},
   "outputs": [],
   "source": [
    "nmodel = NaiveModel(10)"
   ]
  },
  {
   "cell_type": "markdown",
   "metadata": {},
   "source": [
    "To run the model a single step, call `step` function "
   ]
  },
  {
   "cell_type": "code",
   "execution_count": 9,
   "metadata": {},
   "outputs": [
    {
     "name": "stdout",
     "output_type": "stream",
     "text": [
      "hi!\n",
      "hi!\n",
      "hi!\n",
      "hi!\n",
      "hi!\n",
      "hi!\n",
      "hi!\n",
      "hi!\n",
      "hi!\n",
      "hi!\n"
     ]
    }
   ],
   "source": [
    "nmodel.step()"
   ]
  },
  {
   "cell_type": "markdown",
   "metadata": {},
   "source": [
    "You can also access all the agents of the model via model scheduler"
   ]
  },
  {
   "cell_type": "code",
   "execution_count": 10,
   "metadata": {},
   "outputs": [],
   "source": [
    "agents = nmodel.schedule.agents"
   ]
  },
  {
   "cell_type": "code",
   "execution_count": 11,
   "metadata": {},
   "outputs": [
    {
     "data": {
      "text/plain": [
       "[<__main__.NaiveAgent at 0x1ae827b4888>,\n",
       " <__main__.NaiveAgent at 0x1ae82ba28c8>,\n",
       " <__main__.NaiveAgent at 0x1ae82c6bcc8>,\n",
       " <__main__.NaiveAgent at 0x1ae82c6b608>,\n",
       " <__main__.NaiveAgent at 0x1ae82c6b648>,\n",
       " <__main__.NaiveAgent at 0x1ae82c6bec8>,\n",
       " <__main__.NaiveAgent at 0x1ae82c6b5c8>,\n",
       " <__main__.NaiveAgent at 0x1ae82c6b508>,\n",
       " <__main__.NaiveAgent at 0x1ae82c6b788>,\n",
       " <__main__.NaiveAgent at 0x1ae82c6bdc8>]"
      ]
     },
     "execution_count": 11,
     "metadata": {},
     "output_type": "execute_result"
    }
   ],
   "source": [
    "agents"
   ]
  },
  {
   "cell_type": "markdown",
   "metadata": {},
   "source": [
    "You can access the shape (location) of the agents with their attribute `shape`, and as a result visualize it if necessary "
   ]
  },
  {
   "cell_type": "code",
   "execution_count": 12,
   "metadata": {},
   "outputs": [],
   "source": [
    "shapes = gpd.GeoSeries(map(lambda a: a.shape, agents))"
   ]
  },
  {
   "cell_type": "markdown",
   "metadata": {},
   "source": [
    "What if we want more complicated behaviors? <br>\n",
    "Let's say you want agents to move by a random <b> (x, y) </b> each step, in the range of [-5,5]"
   ]
  },
  {
   "cell_type": "code",
   "execution_count": null,
   "metadata": {},
   "outputs": [],
   "source": [
    "class NaiveAgent(GeoAgent):\n",
    "    '''\n",
    "    A simple geo-agent that only says \"hi!\" each step\n",
    "    unique_id: the unique_id of the agent\n",
    "    model: the model that the agent belongs to\n",
    "    shape: the spatial shape of the agent\n",
    "    '''\n",
    "    def __init__(self, unique_id, model, shape):\n",
    "        super().__init__(unique_id, model, shape)\n",
    "        \n",
    "        \n",
    "        \n",
    "    def step(self):\n",
    "        print('hi!')"
   ]
  }
 ],
 "metadata": {
  "kernelspec": {
   "display_name": "Python 3",
   "language": "python",
   "name": "python3"
  },
  "language_info": {
   "codemirror_mode": {
    "name": "ipython",
    "version": 3
   },
   "file_extension": ".py",
   "mimetype": "text/x-python",
   "name": "python",
   "nbconvert_exporter": "python",
   "pygments_lexer": "ipython3",
   "version": "3.7.9"
  }
 },
 "nbformat": 4,
 "nbformat_minor": 4
}
